{
 "cells": [
  {
   "cell_type": "markdown",
   "id": "fc1de2e8",
   "metadata": {},
   "source": [
    "# 2021학년도 1학기 빅데이터분석 시각화 기말 과제\n",
    "\n",
    "- 제목: 2015년 및 2020년 기준 서울시 인구-CCTV 현황 산점도\n",
    "- 학번: \n",
    "- 이름: "
   ]
  },
  {
   "cell_type": "markdown",
   "id": "e233f459",
   "metadata": {},
   "source": [
    "<b>주의 사항</b>  \n",
    "- 효율적이고 간결한 코드  \n",
    "아래에 작성할 코드에서 불필요한 코드는 원칙적으로 포함시키지 말아야 합니다.  \n",
    "주석에서 명시한 작업만 효율적으로 수행하도록 간결하게 코드를 작성하기 바랍니다.  \n",
    "불필요한 코드가 포함될 경우, 평가 과정에서 감점될 수 있습니다.\n",
    "- 주석을 충실하게 반영  \n",
    "아래에 포함된 주석은 절대로 수정하거나 삭제하지 마세요.  \n",
    "주석에서 명시한 작업은 반드시 해당 주석이 있는 곳에서 수행하기 바랍니다.  \n",
    "주석을 수정/삭제하거나 주석에서 명시한 작업이 누락될 경우, 평가 과정에서 감점될 수 있습니다.\n",
    "- 포함된 코드와 누락된 코드  \n",
    "아래에 포함된 코드는 절대로 수정하거나 삭제하지 마세요.\n",
    "누락된 코드를 완성하여 작업을 수행하기 바랍니다. \n",
    "- 코드 셀 실행 결과 출력  \n",
    "본 노트북에 포함되어 있는 출력과 동일한 결과가 생성되도록 코드를 완성하기 바랍니다.  \n",
    "평가 과정에서, 제출한 노트북을 실행한 결과가 여기에 제시된 출력과 다르다면, 감점될 수 있습니다.  "
   ]
  },
  {
   "cell_type": "markdown",
   "id": "68c03006",
   "metadata": {},
   "source": [
    "## 1. 라이브러리 임포트"
   ]
  },
  {
   "cell_type": "code",
   "execution_count": 1,
   "id": "6922d4e5",
   "metadata": {
    "collapsed": false,
    "jupyter": {
     "outputs_hidden": false
    },
    "pycharm": {
     "name": "#%%\n"
    }
   },
   "outputs": [],
   "source": [
    "# 라이브러리 임포트\n",
    "import pandas as pd                      # pandas를 pd로 준비 \n",
    "import numpy as np                       # numbpy를 np로 준비\n",
    "import matplotlib.pyplot as plt          # pyplot을 plt로 준비\n",
    "import platform                          # platform 준비\n",
    "from matplotlib import font_manager, rc  # 글꼴 처리 준비\n",
    "\n",
    "# 주피터 노트북에서 시각화 결과가 직접 출력되도록 설정\n",
    "%matplotlib inline    \n",
    "\n",
    "# 판다스 데이터프레임 실수 출력 형식 지정\n",
    "pd.options.display.float_format = '{:,.1f}'.format  "
   ]
  },
  {
   "cell_type": "markdown",
   "id": "d38285f1",
   "metadata": {},
   "source": [
    "## 2. 시각화를 위한 글꼴 준비 "
   ]
  },
  {
   "cell_type": "code",
   "execution_count": 2,
   "id": "c05e0abd",
   "metadata": {},
   "outputs": [],
   "source": [
    "# 운영체제에 적합한 한글 글꼴 지정\n",
    "plt.rcParams['axes.unicode_minus'] = False                          # '-' 부호가 정상적으로 출력되도록 설정\n",
    "if platform.system() == 'Darwin':                                   # 운영체제가 MAC OS X라면\n",
    "    rc('font', family='AppleGothic')                                # 애플고딕 글꼴 지정\n",
    "elif platform.system() == 'Windows':                                # 운영체제가 윈도우라면 \n",
    "    path = \"c:/Windows/Fonts/malgun.ttf\"                            # 글꼴 파일 경로 지정\n",
    "    font_name = font_manager.FontProperties(fname=path).get_name()  # 글꼴 이름 획득\n",
    "    rc('font', family=font_name)                                    # 획득한 글꼴 이름으로 지정\n",
    "else:                                                               # 기타 운영체제라면\n",
    "    print('Unknown system... sorry~~~~')                            # 글꼴 설정 실패 메시지 출력"
   ]
  },
  {
   "cell_type": "markdown",
   "id": "e01482cd",
   "metadata": {},
   "source": [
    "## 3. 인구 데이터 준비"
   ]
  },
  {
   "cell_type": "code",
   "execution_count": 3,
   "id": "08e4e32f",
   "metadata": {
    "pycharm": {
     "name": "#%%\n"
    },
    "tags": []
   },
   "outputs": [
    {
     "data": {
      "text/html": [
       "<div>\n",
       "<style scoped>\n",
       "    .dataframe tbody tr th:only-of-type {\n",
       "        vertical-align: middle;\n",
       "    }\n",
       "\n",
       "    .dataframe tbody tr th {\n",
       "        vertical-align: top;\n",
       "    }\n",
       "\n",
       "    .dataframe thead th {\n",
       "        text-align: right;\n",
       "    }\n",
       "</style>\n",
       "<table border=\"1\" class=\"dataframe\">\n",
       "  <thead>\n",
       "    <tr style=\"text-align: right;\">\n",
       "      <th></th>\n",
       "      <th>자치구</th>\n",
       "      <th>인구 규모 2015</th>\n",
       "      <th>인구 규모 2020</th>\n",
       "    </tr>\n",
       "  </thead>\n",
       "  <tbody>\n",
       "    <tr>\n",
       "      <th>0</th>\n",
       "      <td>종로구</td>\n",
       "      <td>163822</td>\n",
       "      <td>158996</td>\n",
       "    </tr>\n",
       "    <tr>\n",
       "      <th>1</th>\n",
       "      <td>중구</td>\n",
       "      <td>134329</td>\n",
       "      <td>134635</td>\n",
       "    </tr>\n",
       "    <tr>\n",
       "      <th>2</th>\n",
       "      <td>용산구</td>\n",
       "      <td>247909</td>\n",
       "      <td>244645</td>\n",
       "    </tr>\n",
       "    <tr>\n",
       "      <th>3</th>\n",
       "      <td>성동구</td>\n",
       "      <td>305065</td>\n",
       "      <td>300505</td>\n",
       "    </tr>\n",
       "    <tr>\n",
       "      <th>4</th>\n",
       "      <td>광진구</td>\n",
       "      <td>375180</td>\n",
       "      <td>360109</td>\n",
       "    </tr>\n",
       "  </tbody>\n",
       "</table>\n",
       "</div>"
      ],
      "text/plain": [
       "   자치구  인구 규모 2015  인구 규모 2020\n",
       "0  종로구      163822      158996\n",
       "1   중구      134329      134635\n",
       "2  용산구      247909      244645\n",
       "3  성동구      305065      300505\n",
       "4  광진구      375180      360109"
      ]
     },
     "execution_count": 3,
     "metadata": {},
     "output_type": "execute_result"
    }
   ],
   "source": [
    "# 연도를 매개변수로 지정하여 인구 데이터를 입력하는 함수 정의\n",
    "def read_pop(연도):\n",
    "    # 파일 읽기\n",
    "    pop = pd.read_csv(\n",
    "        './pop_'+str(연도)+'.txt',\n",
    "        sep = '\\t',                 # 구분자를 탭으로 지정\n",
    "        thousands = ',',            # 천 단위 구분 쉼표 처리\n",
    "        header = 2,                 # (0부터 시작하는 번호 기준으로) 2번 행을 헤더로 지정\n",
    "        usecols=['자치구', '계'],   # 지정 열만 읽어들이도록\n",
    "    )\n",
    "    # 열 이름 변경\n",
    "    pop.rename(\n",
    "        columns={pop.columns[1] : '인구 규모 '+str(연도)},  \n",
    "        inplace=True\n",
    "    )\n",
    "    # 널 값을 포함한 행 조사\n",
    "    if pop.isnull().values.any():\n",
    "        print(f'fillna() 호출 전, 널 값이 포함된 행: \\n{pop[pop.isnull().any(axis=1)]}')\n",
    "        pop.fillna(0, inplace=True)   \n",
    "        print(f'fillna() 호출 후, 널 값이 포함된 행: \\n{pop[pop.isnull().any(axis=1)]}')\n",
    "    # 합계 행 삭제\n",
    "    rows = pop[ pop['자치구'] == '합계' ].index\n",
    "    pop.drop(rows, inplace=True)\n",
    "    # 데이터 프레임 반환\n",
    "    return pop\n",
    "\n",
    "# 연도를 지정하여 인구 데이터를 입력하는 함수 실행\n",
    "df_pop2015 = read_pop(2015)  # 1) 2015 인구 획득\n",
    "df_pop2020 = read_pop(2020)  # 2) 2020 인구 획득\n",
    "\n",
    "# 인구 데이터 병합\n",
    "df_pop = pd.merge(        \n",
    "    df_pop2015, df_pop2020,\n",
    "    how='outer',\n",
    "    on='자치구'\n",
    ")\n",
    "\n",
    "# 결과 출력\n",
    "df_pop.head()"
   ]
  },
  {
   "cell_type": "markdown",
   "id": "c9c7fa5e",
   "metadata": {},
   "source": [
    "## 4. CCTV 데이터 준비"
   ]
  },
  {
   "cell_type": "code",
   "execution_count": 4,
   "id": "50abd710",
   "metadata": {
    "pycharm": {
     "name": "#%%\n"
    },
    "tags": []
   },
   "outputs": [
    {
     "ename": "SyntaxError",
     "evalue": "unexpected EOF while parsing (<ipython-input-4-ec7861ada6c7>, line 38)",
     "output_type": "error",
     "traceback": [
      "\u001b[1;36m  File \u001b[1;32m\"<ipython-input-4-ec7861ada6c7>\"\u001b[1;36m, line \u001b[1;32m38\u001b[0m\n\u001b[1;33m    # 어차피 해당 행을 제거하고 분석할 예정이므로 문제 없음\u001b[0m\n\u001b[1;37m                                    ^\u001b[0m\n\u001b[1;31mSyntaxError\u001b[0m\u001b[1;31m:\u001b[0m unexpected EOF while parsing\n"
     ]
    }
   ],
   "source": [
    "# 1) CCTV 데이터 파일 읽어오기\n",
    "df_cctv = pd.read_csv(\n",
    "    './CCTV.csv',      # 파일 경로 지정\n",
    "    thousands=',',     # 천 단위 구분 쉼표 처리\n",
    "    header=1,          # (0부터 시작하는 번호 기준으로) 1번 행을 헤더로 지정\n",
    "    encoding='euc-kr'  # 인코딩 방식 지정\n",
    ")\n",
    "\n",
    "# 2) 열 이름 변경\n",
    "df_cctv.rename(\n",
    "    columns={\n",
    "        '구분': '자치구', \n",
    "        '2011년 이전': '2010년 이전'\n",
    "    },            # '구분'을 '자치구'로, '2011년 이전'을 '2010년 이전'으로 변경\n",
    "    inplace=True  # 원본을 직접 수정\n",
    ")  \n",
    "\n",
    "# 3) 2015년 합계 계산\n",
    "lst_col = ['2010년 이전', '2011년', '2012년', '2013년', '2014년', '2015년']\n",
    "df_cctv['CCTV 규모 2015'] = df_cctv.loc[:, lst_col].sum(axis='columns')\n",
    "\n",
    "# 4) 2020년 합계 계산\n",
    "lst_col = ['CCTV 규모 2015', '2016년', '2017년', '2018년', '2019년', '2020년']\n",
    "df_cctv['CCTV 규모 2020'] = df_cctv.loc[:, lst_col].sum(axis='columns')\n",
    "\n",
    "# 5) 널 값을 포함한 행이 존재하면 널 값을 0으로 치환\n",
    "if df_cctv.isnull().values.any():\n",
    "    print(f'fillna() 호출 전, 널 값이 포함된 행: \\n{df_cctv[ df_cctv.isnull().any(axis=1) ]}')\n",
    "    df_cctv.fillna(0, inplace=True)    \n",
    "    print(f'fillna() 호출 후, 널 값이 포함된 행: \\n{df_cctv[ df_cctv.isnull().any(axis=1) ]}')\n",
    "\n",
    "# 6) 2020년 규모와 총계가 맞는지 확인\n",
    "df_cctv[ df_cctv[ df_cctv['총계'] != df_cctv['CCTV 규모 2020'] ]\n",
    "# 0 행(자치구 합계 행)의 '총계'(75431)와 'CCTV 규모 2020' 열 값(70834)이 일치하지 않는 문제\n",
    "# 서울시 제공 데이터 자체의 문제이고,\n",
    "# 2013년 '계'가 4597인데 0으로 잘못 기재된 오류가 원인이며\n",
    "# 70834+4597=75431 \n",
    "# 어차피 해당 행을 제거하고 분석할 예정이므로 문제 없음"
   ]
  },
  {
   "cell_type": "code",
   "execution_count": null,
   "id": "308489f0",
   "metadata": {
    "pycharm": {
     "name": "#%%\n"
    },
    "tags": []
   },
   "outputs": [],
   "source": [
    "# 7) 합계 행 삭제\n",
    "rows = df_cctv[ df_cctv['자치구'] == '계' ].index\n",
    "df_cctv.drop(rows, inplace=True)  # 합계 행을 삭제\n",
    "\n",
    "# 8) 불필요한 열 삭제 ('자치구', 'CCTV 규모 2015', 'CCTV 규모 2020' 열만 남기고 다른 열은 제거)\n",
    "cols = ['총계', '2010년 이전',\n",
    "        '2011년', '2012년', '2013년', '2014년', '2015년',\n",
    "        '2016년', '2017년', '2018년', '2019년', '2020년']\n",
    "df_cctv.drop(cols, axis='columns', inplace=True)\n",
    "\n",
    "# 9) '자치구' 열 내부의 공백 제거 (예를 들어 '중 구'를 '중구'로 수정)\n",
    "# df_cctv['자치구'] = df_cctv['자치구'].str.replace(' ', '')  # inplace 옵션 사용 불가\n",
    "df_cctv['자치구'].replace(' ','', regex=True, inplace=True)\n",
    "\n",
    "# 10) 결과 출력\n",
    "df_cctv.head()"
   ]
  },
  {
   "cell_type": "markdown",
   "id": "00b68981",
   "metadata": {
    "pycharm": {
     "name": "#%% md\n"
    }
   },
   "source": [
    "## 5. 인구-CCTV 데이터 병합"
   ]
  },
  {
   "cell_type": "code",
   "execution_count": null,
   "id": "6c7f2c0c",
   "metadata": {
    "tags": []
   },
   "outputs": [],
   "source": [
    "# 인구와 CCTV 병합\n",
    "cctv_with_pop = pd.merge(  # 병합 함수 호출\n",
    "    df_pop, df_cctv,       # 병합 대상은 인구 및 CCTV\n",
    "    how='outer',           # 외부 조인 방식\n",
    "    on='자치구'            # 조인 기준 열 지정\n",
    ")\n",
    "\n",
    "# 자치구를 인덱스로 설정\n",
    "cctv_with_pop.set_index('자치구', inplace=True)\n",
    "\n",
    "# 병합 결과 출력\n",
    "cctv_with_pop.head()"
   ]
  },
  {
   "cell_type": "markdown",
   "id": "66b135e2",
   "metadata": {},
   "source": [
    "## 6. CCTV 비율 계산"
   ]
  },
  {
   "cell_type": "code",
   "execution_count": null,
   "id": "069f9588",
   "metadata": {},
   "outputs": [],
   "source": [
    "# 인구 백명당 CCTV 비율 계산\n",
    "cctv_with_pop['CCTV 비율 2015'] = cctv_with_pop['CCTV 규모 2015'] / cctv_with_pop['인구 규모 2015'] * 100.0\n",
    "cctv_with_pop['CCTV 비율 2020'] = cctv_with_pop['CCTV 규모 2020'] / cctv_with_pop['인구 규모 2020'] * 100.0\n",
    "\n",
    "# 계산 결과 출력\n",
    "cctv_with_pop.head()"
   ]
  },
  {
   "cell_type": "markdown",
   "id": "22fafd4b",
   "metadata": {},
   "source": [
    "## 7. 회귀 분석"
   ]
  },
  {
   "cell_type": "code",
   "execution_count": null,
   "id": "d0ffc273",
   "metadata": {},
   "outputs": [],
   "source": [
    "# 회귀선 준비\n",
    "pf2015 = np.polyfit(                    # numpy.polyfit(x, y, 차수)\n",
    "    cctv_with_pop['인구 규모 2015'],    # 추정에 사용할 x 좌표 값\n",
    "    cctv_with_pop['CCTV 규모 2015'],    # 추정에 사용할 y 좌표 값\n",
    "    1                                   # 1차원(직선 형태) 다항식\n",
    ")\n",
    "pf2020 = np.polyfit(                    # numpy.polyfit(x, y, 차수)\n",
    "    cctv_with_pop['인구 규모 2020'],    # 추정에 사용할 x 좌표 값\n",
    "    cctv_with_pop['CCTV 규모 2020'],    # 추정에 사용할 y 좌표 값\n",
    "    1                                   # 1차원(직선 형태) 다항식 \n",
    ")                                  \n",
    "\n",
    "# y 축\n",
    "fy2015 = np.poly1d(pf2015)              # 2015년 회귀선 y 값 리스트 계산\n",
    "fy2020 = np.poly1d(pf2020)              # 2020년 회귀선 y 값 리스트 계산\n",
    "\n",
    "# x 축\n",
    "fx2015 = np.linspace(100000, 700000, 100)  # 2015년 회귀선 x 값 리스트 계산\n",
    "fx2020 = np.linspace(100000, 700000, 100)  # 2020년 회귀선 x 값 리스트 계산\n",
    "\n",
    "# 오차\n",
    "cctv_with_pop['오차 2015'] = np.abs(       # 2015년 오차 계산\n",
    "    cctv_with_pop['CCTV 규모 2015'] - fy2015(cctv_with_pop['인구 규모 2015'])\n",
    ")\n",
    "cctv_with_pop['오차 2020'] = np.abs(       # 2020년 오차 계산\n",
    "    cctv_with_pop['CCTV 규모 2020'] - fy2020(cctv_with_pop['인구 규모 2020'])\n",
    ")\n",
    "\n",
    "# 결과 출력\n",
    "cctv_with_pop.head()"
   ]
  },
  {
   "cell_type": "markdown",
   "id": "d508a9bb",
   "metadata": {},
   "source": [
    "## 8. 이동 거리 계산 "
   ]
  },
  {
   "cell_type": "code",
   "execution_count": null,
   "id": "8e38da2c",
   "metadata": {},
   "outputs": [],
   "source": [
    "# 자치구마다 이동 거리 계산\n",
    "cctv_with_pop['이동 거리'] = np.sqrt(\n",
    "    (  1.0 * (cctv_with_pop['인구 규모 2020'] - cctv_with_pop['인구 규모 2015']))**2    #   1배로 스케일링\n",
    "    + (100.0 * (cctv_with_pop['CCTV 규모 2020'] - cctv_with_pop['CCTV 규모 2015']))**2  # 100배로 스케일링\n",
    ")\n",
    "\n",
    "# 최대 이동 거리 확인\n",
    "max_distance = cctv_with_pop['이동 거리'].max()\n",
    "\n",
    "# 결과 출력\n",
    "cctv_with_pop.head()"
   ]
  },
  {
   "cell_type": "markdown",
   "id": "e241a419",
   "metadata": {},
   "source": [
    "## 9. 산점도 시각화"
   ]
  },
  {
   "cell_type": "code",
   "execution_count": null,
   "id": "b2796d7b",
   "metadata": {},
   "outputs": [],
   "source": [
    "# 산점도 준비 및 y축 범위 설정\n",
    "plt.figure(figsize=(14,10))  # 그림 크기 (14, 10)으로 설정\n",
    "plt.ylim(0, 7000)            # y 축 범위 (0, 7000)으로 설정\n",
    "\n",
    "# 산점도 시각화 함수 정의\n",
    "def myScatter(연도, 알파, fx, fy):\n",
    "    # 1) 산점도 그리기\n",
    "    plt.scatter(                                             # 산점도 출력 함수\n",
    "        cctv_with_pop['인구 규모 20'+연도],                  # x\n",
    "        cctv_with_pop['CCTV 규모 20'+연도],                  # y\n",
    "        c=cctv_with_pop['오차 20'+연도],                     # 마커 색상 (오차 데이터를 마커 색상으로 지정)\n",
    "        s=np.sqrt(cctv_with_pop['CCTV 비율 20'+연도])*1000,  # 마커 크기 (해당 연도 CCTV 비율의 제곱근에 비례)\n",
    "        alpha=알파                                           # 투명도\n",
    "    )\n",
    "    # 2) 추세선 그리기\n",
    "    plt.plot(fx, fy, ls='-', lw=3, color='g', alpha=알파)  # 추세선 출력 함수(실선, 두께 3, 색상 초록, 투명도 알파)\n",
    "    # 3) 마커 레이블 출력\n",
    "    for n in range(len(cctv_with_pop)):             # df 행 개수만큼 반복\n",
    "        plt.text(                                   # 자치구 레이블 출력 함수\n",
    "            cctv_with_pop['인구 규모 20'+연도][n],  # 텍스트 위치 x (자치구 원 중심의 x 좌표 값)\n",
    "            cctv_with_pop['CCTV 규모 20'+연도][n],  # 텍스트 위치 y (자치구 원 중심의 y 좌표 값)\n",
    "            cctv_with_pop.index[n]+str(연도),       # 텍스트 내용 (예: '강남구20' 또는 '강남구15')\n",
    "            fontsize=12                             # 폰트 크기\n",
    "        )\n",
    "\n",
    "# 산점도 시각화 함수 실행\n",
    "myScatter('15', 0.2, fx2015, fy2015(fx2015))  # 2015년 산점도 시각화 함수 실행, 투명도는 0.2로 지정\n",
    "myScatter('20', 0.9, fx2020, fy2020(fx2020))  # 2020년 산점도 시각화 함수 실행, 투명도는 0.9로 지정\n",
    "\n",
    "# 자치구 이동 궤적 출력\n",
    "for n in range(len(cctv_with_pop)):               # df 행 개수만큼 반복\n",
    "    distance = cctv_with_pop['이동 거리'][n]      # n번 자치구 이동 거리\n",
    "    x_values = [                                  # n번 자치구의 x 좌표 리스트 시작\n",
    "        cctv_with_pop['인구 규모 2015'][n],       # 2015년 x 좌표\n",
    "        cctv_with_pop['인구 규모 2020'][n]        # 2020년 x 좌표\n",
    "    ]                                             # n번 자치구의 x 좌표 리스트 종료\n",
    "    y_values = [                                  # n번 자치구의 y 좌표 리스트 시작\n",
    "        cctv_with_pop['CCTV 규모 2015'][n],       # 2015년 y 좌표\n",
    "        cctv_with_pop['CCTV 규모 2020'][n]        # 2020년 y 좌표\n",
    "    ]                                             # n번 자치구의 y 좌표 리스트 종료\n",
    "    plt.plot(                                     # 2015년 위치에서 2020년 위치로 이동 궤적 출력 함수\n",
    "        x_values,                                 # n번 자치구의 x 좌표 리스트\n",
    "        y_values,                                 # n번 자치구의 y 좌표 리스트\n",
    "        lw=distance/max_distance*10,              # 이동 궤적 두께를 최대 이동거리 대비 해당 자치구 이동거리 비율의 10배로 지정\n",
    "        color=(0, 0, distance/max_distance, 0.3)  # 이동 궤적 색상의 blue 값을 최대 이동거리 대비 해당 자치구 이동거리 비율로, 투명도를 0.3으로 지정\n",
    "    )\n",
    "\n",
    "# 마무리\n",
    "plt.colorbar()                                                  # 색상 조견 막대 출력 함수 (수직 방향)\n",
    "plt.title('2015-2020 인구 및 CCTV 규모 산점도\\n', fontsize=15)  # 산점도 제목 지정\n",
    "plt.xlabel('인구 규모 (단위: 명)')                              # x축 제목 지정\n",
    "plt.ylabel('CCTV 설치 규모 (단위: 대)')                         # y축 제목 지정\n",
    "plt.grid()                                                      # 눈금 그리드 보이도록 지정\n",
    "plt.show()                                                      # 시각화 결과 출력"
   ]
  },
  {
   "cell_type": "code",
   "execution_count": null,
   "id": "6f2b7b43",
   "metadata": {},
   "outputs": [],
   "source": []
  }
 ],
 "metadata": {
  "kernelspec": {
   "display_name": "Python 3",
   "language": "python",
   "name": "python3"
  },
  "language_info": {
   "codemirror_mode": {
    "name": "ipython",
    "version": 3
   },
   "file_extension": ".py",
   "mimetype": "text/x-python",
   "name": "python",
   "nbconvert_exporter": "python",
   "pygments_lexer": "ipython3",
   "version": "3.9.2"
  }
 },
 "nbformat": 4,
 "nbformat_minor": 5
}
