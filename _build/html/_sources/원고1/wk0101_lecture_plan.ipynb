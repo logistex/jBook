{
 "cells": [
  {
   "cell_type": "markdown",
   "metadata": {},
   "source": [
    "# 1. 수업 계획"
   ]
  },
  {
   "cell_type": "markdown",
   "metadata": {
    "pycharm": {
     "name": "#%% md\n"
    }
   },
   "source": [
    "## 1.1 선생님 소개\n",
    "![신교수 박사모자](https://user-images.githubusercontent.com/10287629/103825781-da345780-50b8-11eb-8f34-1e1a98b2049e.png)\n",
    "- 이름: 신해웅(辛海雄)\n",
    "- 최근 강의 과목\n",
    "  - 파이썬\n",
    "  - [파이썬 (장고) 웹 개발](http://logistex2021.pythonanywhere.com/)\n",
    "  - [파이썬 데이터 시각화](http://logistex2021.pythonanywhere.com/chart/ticket-class/3/)\n",
    "- 좌우명\n",
    "\n",
    "![Love it](https://user-images.githubusercontent.com/10287629/104137834-14686680-53e3-11eb-86a2-1f678016c49c.png)\n",
    "\n",
    "- 연락처\n",
    "> Haewoong Shin, Ph.D.  \n",
    "Professor, Dept. of Smart IT, Hanyang Women's University  \n",
    "200, Salgoji-gil, Seongdong-Ku, Seoul, 04763, Republic of Korea  \n",
    "e-mail: logistex@hywoman.ac.kr  \n",
    "Cellular: 82-10-3770-2210  \n",
    "Office: 82-2-2290-2385  \n",
    "Kakao Talk: logistex  "
   ]
  },
  {
   "cell_type": "markdown",
   "metadata": {},
   "source": [
    "## 1.2 강의 계획\n",
    "- 강의 노트: 이클래스 강의 자료로 제공\n",
    "- 강좌 내용 구성\n",
    "    - 강좌 소개 (이번 강의)\n",
    "    - [데이터시각화 기본 개념](./wk0101_basics.ipynb)\n",
    "        - 무엇인가?\n",
    "        - 왜 배우는가?\n",
    "        - 무엇을 배우는가?\n",
    "        ![00_06_basics](https://user-images.githubusercontent.com/10287629/91050707-04313400-e65a-11ea-84d5-b7397dfef1e0.png)\n",
    "        ![](https://user-images.githubusercontent.com/10287629/88142557-b24b5780-cc30-11ea-8fde-9f03d0c4b994.png)\n",
    "        ![](https://t1.daumcdn.net/cfile/tistory/274FD436580069FE13)\n",
    "    - [데이터시각화 원리](./wk0102_principles.ipynb)\n",
    "        - 시각화 유형의 다양성\n",
    "        ![](https://user-images.githubusercontent.com/10287629/88145797-f2f99f80-cc35-11ea-812f-67e72191dc80.png)\n",
    "        - 시각화 유형의 선택 방법\n",
    "        ![](https://www.datapine.com/blog/wp-content/uploads/2019/05/data-visualization-types-overview.png)\n",
    "    - [실습 환경 구축](../wk02_setup_dev_env/wk0200_setup.ipynb)\n",
    "         - 아나콘다 파이썬\n",
    "         ![](https://www.python.org/static/opengraph-icon-200x200.png)\n",
    "         ![](https://1.bp.blogspot.com/-or-e20BXbFM/XdJ53rqymWI/AAAAAAAACCY/aNkO3ebHD-I63ppgiEhGYjv3LkneVbdlwCLcBGAsYHQ/s640/anaconda-components.png)\n",
    "         - 가상환경 관리\n",
    "         - 쥬피터 노트북\n",
    "        ![](https://i.github-camo.com/0013bcdd1fb7fe38aa7d59e93a86807846c02d50/687474703a2f2f692e696d6775722e636f6d2f3130304d7458522e706e67)\n",
    "\n",
    "    - [Pandas 데이터 분석 방법]()\n",
    "        ![](https://www.geeksforgeeks.org/wp-content/uploads/creating_dataframe1.png)\n",
    "    - [Matplotlib 차트 시각화 방법]()\n",
    "        ![](https://pynative.com/wp-content/uploads/2019/01/python_matplotlib_exercise.png)\n",
    "    - [CCTV 설치 규모 분석](./DataScience/source_code/01._인구대비_CCTV_설치량_분석.ipynb/)\n",
    "        ![00_03_CCTV](https://user-images.githubusercontent.com/10287629/91045177-73eef100-e651-11ea-97ed-14797165ed37.png)\n",
    "    - [범죄 빈도 분석](./DataScience/source_code/02._Analysis_for_crime_in_Seoul.ipynb)\n",
    "        ![00_04_crime](https://user-images.githubusercontent.com/10287629/91045677-350d6b00-e652-11ea-8a16-f9b215157661.png)\n",
    "\n",
    "    - [Plotly 시각화 방법]()\n",
    "        ![00_05_plotly](https://user-images.githubusercontent.com/10287629/91046253-0a6fe200-e653-11ea-9b99-cf31ce6373bf.png)\n",
    "    - [Covid19 시각화 실습]()\n",
    "        ![](https://miro.medium.com/max/3840/1*tAOUhxclkns7AVl-scQl2g.png)\n",
    "    - [Django를 활용한 데이터 적재/분석/시각화 방법]()\n",
    "        ![00_01_djangoSite](https://user-images.githubusercontent.com/10287629/91044357-1dcd7e00-e650-11ea-9bd7-f9769d75826f.png)\n",
    "    - [타이타닉 생존자 데이터 시각화 실습]()\n",
    "        ![00_02_djangoTitanic](https://user-images.githubusercontent.com/10287629/91044694-ad732c80-e650-11ea-8a30-f8c1928be48e.png)"
   ]
  },
  {
   "cell_type": "markdown",
   "metadata": {},
   "source": [
    "## 1.3 평가 계획\n",
    "\n",
    "- 시험보다는 과제 위주로 평가\n",
    "    - 단편적 암기 위주 필기 시험의 문제점\n",
    "    - 필기 시험은 최대한 억제\n",
    "    - 과제를 통한 심층적 문제 해결 능력을 평가\n",
    "    - 평가 요소에 대한 사전 설명\n",
    "\n",
    "구분 | 배점 | 평가의 초점 |\n",
    "--- | ---: | :--- |\n",
    "출석 |  15 | 성실성\n",
    "평소 |  15 | 문제 해결 능력 및 의지 (예: 타이타닉 생존율 시각화)\n",
    "중간 |  30 | 문제 해결 능력 및 의지 (예: 범죄 및 검거 시각화)\n",
    "기말 |  40 | 문제 해결 능력 및 의지 (예: Covid19 시각화)\n",
    "합계 | 100 | -\n",
    "\n",
    "- 질의/응답은 e-Class System으로 단일화\n",
    "    - e-Class System 이외 창구를 통한 질문은 원칙적으로 무시\n",
    "    - 신상 공개가 염려된다면, 익명 질문을 활용"
   ]
  },
  {
   "cell_type": "markdown",
   "metadata": {},
   "source": [
    "## 1.4 수업 운영 방식\n",
    "\n",
    "- 코로나19 사태로 대면 수업이 제한적임\n",
    "- 수업 운영 방식의 고려 사항\n",
    "    - 과목의 성격 상 실습 비중이 크다는 점\n",
    "    - 학생-교수 대면 소통의 가치가 크다는 점\n",
    "    - 방역 단계별로 인원 제한을 철저히 준수해야 한다는 점\n",
    "- 투표\n",
    "\n",
    "| 대안| 수업 방식                    | 찬성 인원 (명) | 찬성 비율 (%) |\n",
    "|:---:|:----:                        |:-----:         |:-------:      |\n",
    "| A   | 전면적 온라인(실시간 Zoom)   |    ?           |  ?            |\n",
    "| B   | 블렌디드(실시간 Zoom + 대면) |    ?           |  ?            |\n",
    "| C   | 전면적 대면                  |    ?           |  ?            |\n",
    "| **집계**| **-**                    |    **41**      | **100.0**     |\n",
    "\n",
    "- 블렌디드(대면+비대면) 수업\n",
    "    - 방역 단계별로 허용되는 인원 이하로 대면 수업\n",
    "    - 허용 수준을 초과하는 인원에 대해서는 줌 실시간 수업\n",
    "        - 녹화 동영상 방식의 한계점\n",
    "        - 쌍방향 소통이 가능한 실시간 줌 수업의 장점\n",
    "    - 교실에서 대면 수업과 실시간 줌 수업을 혼합하여 적용\n",
    "        - 허용 인원은 대면 수업\n",
    "        - 초과 인원은 실시간 줌 수업\n",
    "        - 대면 수업 참가 인원과 줌 수업 참가 인원의 주차별 교체\n",
    "    - 선생님의 결론은 블렌디드 수업이 현 상황에서 최선의 선택\n",
    "    - 수강생 협의가 필요함\n",
    "\n",
    "- 블렌디드 수업 방식 운영 방안\n",
    "    - 수강인원 41(= 14 + 14 + 13) 명을  3 조로 편성\n",
    "    - 1 및 1.5 단계라면 2 개 조가 대면 수업\n",
    "    - 2 및 2.5 단계라면 1 개 조가 대면 수업\n",
    "    - 주차마다 출석 조 교체\n",
    "\n",
    "| 방역 단계 | 블렌디드 수업 방식  | 제한 인원 |\n",
    "|:----:     |:---:                | :---:     |\n",
    "|   1       | 2/3 출석, 1/3 Zoom  | 30 명 이하 |\n",
    "|   1.5     | 2/3 출석, 1/3 Zoom  | 30 명 미만 |\n",
    "|   2       | 1/3 출석, 2/3 Zoom  | 15 명 이하 |\n",
    "|   2.5     | 1/3 출석, 2/3 Zoom  | 15 명 미만 |\n",
    "|   3       | 0/3 출석, 3/3 Zoom  | 대면 수업 불가 |"
   ]
  },
  {
   "cell_type": "markdown",
   "metadata": {},
   "source": [
    "![](https://analyticssteps.com/backend/media/thumbnail/1393579/550552_1576343092_5%20types%20of%20data%20vizulaization.jpg)\n",
    "![](https://venngage-wordpress.s3.amazonaws.com/uploads/2020/06/What-is-Data-Visualization-Blog-Header.jpg)\n",
    "![](https://3x5yp62s8loz3jw8273enqos16xh-wpengine.netdna-ssl.com/wp-content/uploads/2017/09/visualization-wp_thumb-1024x640.png)\n",
    "![](https://www.xenonstack.com/images/blog/xenonstack-data-visualization-techniques-processes-solutions-visual-analytics-solutions.png)\n",
    "![00_00_dv](https://user-images.githubusercontent.com/10287629/91049124-af8cb980-e657-11ea-97d3-625382125985.png)\n",
    "\n",
    "\n"
   ]
  },
  {
   "cell_type": "code",
   "execution_count": null,
   "metadata": {},
   "outputs": [],
   "source": []
  }
 ],
 "metadata": {
  "kernelspec": {
   "display_name": "Python 3",
   "language": "python",
   "name": "python3"
  },
  "language_info": {
   "codemirror_mode": {
    "name": "ipython",
    "version": 3
   },
   "file_extension": ".py",
   "mimetype": "text/x-python",
   "name": "python",
   "nbconvert_exporter": "python",
   "pygments_lexer": "ipython3",
   "version": "3.8.6"
  },
  "toc": {
   "base_numbering": 1,
   "nav_menu": {},
   "number_sections": true,
   "sideBar": true,
   "skip_h1_title": false,
   "title_cell": "Table of Contents",
   "title_sidebar": "Contents",
   "toc_cell": false,
   "toc_position": {
    "height": "calc(100% - 180px)",
    "left": "10px",
    "top": "150px",
    "width": "165px"
   },
   "toc_section_display": true,
   "toc_window_display": true
  },
  "varInspector": {
   "cols": {
    "lenName": 16,
    "lenType": 16,
    "lenVar": 40
   },
   "kernels_config": {
    "python": {
     "delete_cmd_postfix": "",
     "delete_cmd_prefix": "del ",
     "library": "var_list.py",
     "varRefreshCmd": "print(var_dic_list())"
    },
    "r": {
     "delete_cmd_postfix": ") ",
     "delete_cmd_prefix": "rm(",
     "library": "var_list.r",
     "varRefreshCmd": "cat(var_dic_list()) "
    }
   },
   "types_to_exclude": [
    "module",
    "function",
    "builtin_function_or_method",
    "instance",
    "_Feature"
   ],
   "window_display": false
  }
 },
 "nbformat": 4,
 "nbformat_minor": 4
}
